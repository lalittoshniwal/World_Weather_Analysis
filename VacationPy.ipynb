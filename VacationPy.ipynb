{
 "cells": [
  {
   "cell_type": "code",
   "execution_count": 1,
   "id": "1e34bca2",
   "metadata": {},
   "outputs": [],
   "source": [
    "# Import the dependencies.\n",
    "import pandas as pd\n",
    "import gmaps\n",
    "import requests\n",
    "# Import the API key.\n",
    "from config import g_key"
   ]
  },
  {
   "cell_type": "code",
   "execution_count": 2,
   "id": "399623f3",
   "metadata": {},
   "outputs": [
    {
     "data": {
      "text/html": [
       "<div>\n",
       "<style scoped>\n",
       "    .dataframe tbody tr th:only-of-type {\n",
       "        vertical-align: middle;\n",
       "    }\n",
       "\n",
       "    .dataframe tbody tr th {\n",
       "        vertical-align: top;\n",
       "    }\n",
       "\n",
       "    .dataframe thead th {\n",
       "        text-align: right;\n",
       "    }\n",
       "</style>\n",
       "<table border=\"1\" class=\"dataframe\">\n",
       "  <thead>\n",
       "    <tr style=\"text-align: right;\">\n",
       "      <th></th>\n",
       "      <th>City_ID</th>\n",
       "      <th>City</th>\n",
       "      <th>Country</th>\n",
       "      <th>Date</th>\n",
       "      <th>Lat</th>\n",
       "      <th>Lng</th>\n",
       "      <th>Max Temp</th>\n",
       "      <th>Humidity</th>\n",
       "      <th>Cloudiness</th>\n",
       "      <th>Wind Speed</th>\n",
       "    </tr>\n",
       "  </thead>\n",
       "  <tbody>\n",
       "    <tr>\n",
       "      <th>0</th>\n",
       "      <td>0</td>\n",
       "      <td>Semnan</td>\n",
       "      <td>IR</td>\n",
       "      <td>2022-04-24 23:16:25</td>\n",
       "      <td>35.5729</td>\n",
       "      <td>53.3971</td>\n",
       "      <td>71.47</td>\n",
       "      <td>26</td>\n",
       "      <td>99</td>\n",
       "      <td>8.08</td>\n",
       "    </tr>\n",
       "    <tr>\n",
       "      <th>1</th>\n",
       "      <td>1</td>\n",
       "      <td>Avarua</td>\n",
       "      <td>CK</td>\n",
       "      <td>2022-04-24 23:16:25</td>\n",
       "      <td>-21.2078</td>\n",
       "      <td>-159.7750</td>\n",
       "      <td>80.65</td>\n",
       "      <td>83</td>\n",
       "      <td>40</td>\n",
       "      <td>11.50</td>\n",
       "    </tr>\n",
       "    <tr>\n",
       "      <th>2</th>\n",
       "      <td>2</td>\n",
       "      <td>Pisco</td>\n",
       "      <td>PE</td>\n",
       "      <td>2022-04-24 23:15:21</td>\n",
       "      <td>-13.7000</td>\n",
       "      <td>-76.2167</td>\n",
       "      <td>69.85</td>\n",
       "      <td>73</td>\n",
       "      <td>0</td>\n",
       "      <td>16.11</td>\n",
       "    </tr>\n",
       "    <tr>\n",
       "      <th>3</th>\n",
       "      <td>3</td>\n",
       "      <td>Coolum Beach</td>\n",
       "      <td>AU</td>\n",
       "      <td>2022-04-24 23:16:26</td>\n",
       "      <td>-26.5333</td>\n",
       "      <td>153.1000</td>\n",
       "      <td>72.10</td>\n",
       "      <td>86</td>\n",
       "      <td>84</td>\n",
       "      <td>16.04</td>\n",
       "    </tr>\n",
       "    <tr>\n",
       "      <th>4</th>\n",
       "      <td>4</td>\n",
       "      <td>Mar Del Plata</td>\n",
       "      <td>AR</td>\n",
       "      <td>2022-04-24 23:16:26</td>\n",
       "      <td>-38.0023</td>\n",
       "      <td>-57.5575</td>\n",
       "      <td>66.22</td>\n",
       "      <td>79</td>\n",
       "      <td>0</td>\n",
       "      <td>15.01</td>\n",
       "    </tr>\n",
       "  </tbody>\n",
       "</table>\n",
       "</div>"
      ],
      "text/plain": [
       "   City_ID           City Country                 Date      Lat       Lng  \\\n",
       "0        0         Semnan      IR  2022-04-24 23:16:25  35.5729   53.3971   \n",
       "1        1         Avarua      CK  2022-04-24 23:16:25 -21.2078 -159.7750   \n",
       "2        2          Pisco      PE  2022-04-24 23:15:21 -13.7000  -76.2167   \n",
       "3        3   Coolum Beach      AU  2022-04-24 23:16:26 -26.5333  153.1000   \n",
       "4        4  Mar Del Plata      AR  2022-04-24 23:16:26 -38.0023  -57.5575   \n",
       "\n",
       "   Max Temp  Humidity  Cloudiness  Wind Speed  \n",
       "0     71.47        26          99        8.08  \n",
       "1     80.65        83          40       11.50  \n",
       "2     69.85        73           0       16.11  \n",
       "3     72.10        86          84       16.04  \n",
       "4     66.22        79           0       15.01  "
      ]
     },
     "execution_count": 2,
     "metadata": {},
     "output_type": "execute_result"
    }
   ],
   "source": [
    "# Store the CSV you saved created in part one into a DataFrame.\n",
    "city_data_df = pd.read_csv(\"weather_data/cities.csv\")\n",
    "city_data_df.head()"
   ]
  },
  {
   "cell_type": "code",
   "execution_count": 3,
   "id": "a7866792",
   "metadata": {},
   "outputs": [
    {
     "name": "stdout",
     "output_type": "stream",
     "text": [
      "<class 'pandas.core.frame.DataFrame'>\n",
      "RangeIndex: 539 entries, 0 to 538\n",
      "Data columns (total 10 columns):\n",
      " #   Column      Non-Null Count  Dtype  \n",
      "---  ------      --------------  -----  \n",
      " 0   City_ID     539 non-null    int64  \n",
      " 1   City        539 non-null    object \n",
      " 2   Country     532 non-null    object \n",
      " 3   Date        539 non-null    object \n",
      " 4   Lat         539 non-null    float64\n",
      " 5   Lng         539 non-null    float64\n",
      " 6   Max Temp    539 non-null    float64\n",
      " 7   Humidity    539 non-null    int64  \n",
      " 8   Cloudiness  539 non-null    int64  \n",
      " 9   Wind Speed  539 non-null    float64\n",
      "dtypes: float64(4), int64(3), object(3)\n",
      "memory usage: 42.2+ KB\n"
     ]
    }
   ],
   "source": [
    "city_data_df.info()"
   ]
  },
  {
   "cell_type": "code",
   "execution_count": 4,
   "id": "60b75c0e",
   "metadata": {},
   "outputs": [],
   "source": [
    "# Configure gmaps to use your Google API key.\n",
    "gmaps.configure(api_key=g_key)"
   ]
  },
  {
   "cell_type": "code",
   "execution_count": 5,
   "id": "c8f0d965",
   "metadata": {},
   "outputs": [],
   "source": [
    "# Get only the positive maximum temperature values and convert negative to zero.\n",
    "max_temp = city_data_df[\"Max Temp\"]\n",
    "temps = []\n",
    "for temp in max_temp:\n",
    "    temps.append(max(temp, 0))"
   ]
  },
  {
   "cell_type": "code",
   "execution_count": 6,
   "id": "f5d51766",
   "metadata": {},
   "outputs": [
    {
     "data": {
      "application/vnd.jupyter.widget-view+json": {
       "model_id": "369e4053c8e8475fa93a3c1e1d006e44",
       "version_major": 2,
       "version_minor": 0
      },
      "text/plain": [
       "Figure(layout=FigureLayout(height='420px'))"
      ]
     },
     "metadata": {},
     "output_type": "display_data"
    }
   ],
   "source": [
    "# Heatmap of temperature\n",
    "# Get the latitude and longitude.\n",
    "locations = city_data_df[[\"Lat\", \"Lng\"]]\n",
    "# Assign the figure variable.\n",
    "fig = gmaps.figure(center=(30.0, 31.0), zoom_level=1.5)\n",
    "# Assign the heatmap variable.\n",
    "heat_layer = gmaps.heatmap_layer(locations, weights=[max(temp, 0) for temp in max_temp], dissipating=False, max_intensity=300, point_radius=4)\n",
    "# Add the heatmap layer.\n",
    "fig.add_layer(heat_layer)\n",
    "# Call the figure to plot the data.\n",
    "fig"
   ]
  },
  {
   "cell_type": "code",
   "execution_count": 7,
   "id": "fa10b78b",
   "metadata": {},
   "outputs": [
    {
     "data": {
      "application/vnd.jupyter.widget-view+json": {
       "model_id": "1f59e0e3c975427f8b4ed493137180b1",
       "version_major": 2,
       "version_minor": 0
      },
      "text/plain": [
       "Figure(layout=FigureLayout(height='420px'))"
      ]
     },
     "metadata": {},
     "output_type": "display_data"
    }
   ],
   "source": [
    "# Heatmap of percent humidity\n",
    "locations = city_data_df[[\"Lat\", \"Lng\"]]\n",
    "humidity = city_data_df[\"Humidity\"]\n",
    "fig = gmaps.figure(center=(30.0, 31.0), zoom_level=1.5)\n",
    "heat_layer = gmaps.heatmap_layer(locations, weights=humidity, dissipating=False, max_intensity=300, point_radius=4)\n",
    "\n",
    "fig.add_layer(heat_layer)\n",
    "# Call the figure to plot the data.\n",
    "fig"
   ]
  },
  {
   "cell_type": "code",
   "execution_count": 8,
   "id": "beef71f7",
   "metadata": {},
   "outputs": [
    {
     "data": {
      "application/vnd.jupyter.widget-view+json": {
       "model_id": "87be8fafdd84470d8b6f95445c20ffb5",
       "version_major": 2,
       "version_minor": 0
      },
      "text/plain": [
       "Figure(layout=FigureLayout(height='420px'))"
      ]
     },
     "metadata": {},
     "output_type": "display_data"
    }
   ],
   "source": [
    "# Heatmap of percent cloudiness\n",
    "locations = city_data_df[[\"Lat\", \"Lng\"]]\n",
    "clouds = city_data_df[\"Cloudiness\"]\n",
    "fig = gmaps.figure(center=(30.0, 31.0), zoom_level=1.5)\n",
    "heat_layer = gmaps.heatmap_layer(locations, weights=clouds, dissipating=False, max_intensity=300, point_radius=4)\n",
    "\n",
    "fig.add_layer(heat_layer)\n",
    "# Call the figure to plot the data.\n",
    "fig"
   ]
  },
  {
   "cell_type": "code",
   "execution_count": 9,
   "id": "521616ba",
   "metadata": {},
   "outputs": [
    {
     "data": {
      "application/vnd.jupyter.widget-view+json": {
       "model_id": "f522302ec48a4302b124e6ba20b59f55",
       "version_major": 2,
       "version_minor": 0
      },
      "text/plain": [
       "Figure(layout=FigureLayout(height='420px'))"
      ]
     },
     "metadata": {},
     "output_type": "display_data"
    }
   ],
   "source": [
    "# Heatmap of Wind Speed\n",
    "locations = city_data_df[[\"Lat\", \"Lng\"]]\n",
    "wind = city_data_df[\"Wind Speed\"]\n",
    "fig = gmaps.figure(center=(30.0, 31.0), zoom_level=1.5)\n",
    "heat_layer = gmaps.heatmap_layer(locations, weights=wind, dissipating=False, max_intensity=300, point_radius=4)\n",
    "\n",
    "fig.add_layer(heat_layer)\n",
    "# Call the figure to plot the data.\n",
    "fig"
   ]
  },
  {
   "cell_type": "code",
   "execution_count": null,
   "id": "71bcb54d",
   "metadata": {},
   "outputs": [],
   "source": [
    "# Ask the customer to add a minimum and maximum temperature value.\n",
    "min_temp = float(input(\"What is the minimum temperature you would like for your trip? \"))\n",
    "max_temp = float(input(\"What is the maximum temperature you would like for your trip? \"))"
   ]
  },
  {
   "cell_type": "code",
   "execution_count": null,
   "id": "73328667",
   "metadata": {},
   "outputs": [],
   "source": [
    "# Filter the dataset to find the cities that fit the criteria.\n",
    "preferred_cities_df = city_data_df.loc[(city_data_df[\"Max Temp\"] <= max_temp) & (city_data_df[\"Max Temp\"] >= min_temp)]\n",
    "preferred_cities_df.head(10)"
   ]
  },
  {
   "cell_type": "code",
   "execution_count": null,
   "id": "075294ce",
   "metadata": {},
   "outputs": [],
   "source": [
    "preferred_cities_df.count()"
   ]
  },
  {
   "cell_type": "code",
   "execution_count": null,
   "id": "383bf914",
   "metadata": {},
   "outputs": [],
   "source": [
    "# Create DataFrame called hotel_df to store hotel names along with city, country, max temp, and coordinates.\n",
    "hotel_df = preferred_cities_df[[\"City\", \"Country\", \"Max Temp\", \"Lat\", \"Lng\"]].copy()\n",
    "hotel_df[\"Hotel Name\"] = \"\"\n",
    "hotel_df.head(10)"
   ]
  },
  {
   "cell_type": "code",
   "execution_count": null,
   "id": "10e5d2a9",
   "metadata": {},
   "outputs": [],
   "source": [
    "# Set parameters to search for a hotel.\n",
    "params = {\n",
    "    \"radius\": 5000,\n",
    "    \"type\": \"lodging\",\n",
    "    \"key\": g_key\n",
    "}"
   ]
  },
  {
   "cell_type": "code",
   "execution_count": null,
   "id": "b97a9f80",
   "metadata": {},
   "outputs": [],
   "source": [
    "# Iterate through the DataFrame.\n",
    "for index, row in hotel_df.iterrows():\n",
    "    # Get the latitude and longitude.\n",
    "    lat = row[\"Lat\"]\n",
    "    lng = row[\"Lng\"]\n",
    "\n",
    "    # Add the latitude and longitude to location key for the params dictionary.\n",
    "    params[\"location\"] = f\"{lat},{lng}\"\n",
    "\n",
    "    # Use the search term: \"lodging\" and our latitude and longitude.\n",
    "    base_url = \"https://maps.googleapis.com/maps/api/place/nearbysearch/json\"\n",
    "    # Make request and get the JSON data from the search.\n",
    "    hotels = requests.get(base_url, params=params).json()\n",
    "    # Grab the first hotel from the results and store the name.\n",
    "# Grab the first hotel from the results and store the name.\n",
    "    try:\n",
    "        hotel_df.loc[index, \"Hotel Name\"] = hotels[\"results\"][0][\"name\"]\n",
    "    except (IndexError):\n",
    "        print(\"Hotel not found... skipping.\")"
   ]
  },
  {
   "cell_type": "code",
   "execution_count": null,
   "id": "51fd0ca3",
   "metadata": {},
   "outputs": [],
   "source": [
    "hotel_df.head()"
   ]
  },
  {
   "cell_type": "code",
   "execution_count": null,
   "id": "a34f4980",
   "metadata": {},
   "outputs": [],
   "source": [
    "# Add a heatmap of temperature for the vacation spots.\n",
    "locations = hotel_df[[\"Lat\", \"Lng\"]]\n",
    "max_temp = hotel_df[\"Max Temp\"]\n",
    "fig = gmaps.figure(center=(30.0, 31.0), zoom_level=1.5)\n",
    "heat_layer = gmaps.heatmap_layer(locations, weights=max_temp, dissipating=False,\n",
    "             max_intensity=300, point_radius=4)\n",
    "\n",
    "fig.add_layer(heat_layer)\n",
    "# Call the figure to plot the data.\n",
    "fig"
   ]
  },
  {
   "cell_type": "code",
   "execution_count": null,
   "id": "8a22496a",
   "metadata": {},
   "outputs": [],
   "source": [
    "# Add a heatmap of temperature for the vacation spots and marker for each city.\n",
    "locations = hotel_df[[\"Lat\", \"Lng\"]]\n",
    "max_temp = hotel_df[\"Max Temp\"]\n",
    "fig = gmaps.figure(center=(30.0, 31.0), zoom_level=1.5)\n",
    "heat_layer = gmaps.heatmap_layer(locations, weights=max_temp,\n",
    "             dissipating=False, max_intensity=300, point_radius=4)\n",
    "marker_layer = gmaps.marker_layer(locations)\n",
    "fig.add_layer(heat_layer)\n",
    "fig.add_layer(marker_layer)\n",
    "# Call the figure to plot the data.\n",
    "fig"
   ]
  },
  {
   "cell_type": "code",
   "execution_count": null,
   "id": "1439921d",
   "metadata": {},
   "outputs": [],
   "source": [
    "info_box_template = \"\"\"\n",
    "<dl>\n",
    "<dt>Hotel Name</dt><dd>{Hotel Name}</dd>\n",
    "<dt>City</dt><dd>{City}</dd>\n",
    "<dt>Country</dt><dd>{Country}</dd>\n",
    "<dt>Max Temp</dt><dd>{Max Temp} °F</dd>\n",
    "</dl>\n",
    "\"\"\""
   ]
  },
  {
   "cell_type": "code",
   "execution_count": null,
   "id": "4cd8599a",
   "metadata": {},
   "outputs": [],
   "source": [
    "# Store the DataFrame Row.\n",
    "hotel_info = [info_box_template.format(**row) for index, row in hotel_df.iterrows()]"
   ]
  },
  {
   "cell_type": "code",
   "execution_count": null,
   "id": "34796b12",
   "metadata": {},
   "outputs": [],
   "source": [
    "# Add a heatmap of temperature for the vacation spots and a pop-up marker for each city.\n",
    "locations = hotel_df[[\"Lat\", \"Lng\"]]\n",
    "max_temp = hotel_df[\"Max Temp\"]\n",
    "fig = gmaps.figure(center=(30.0, 31.0), zoom_level=1.5)\n",
    "heat_layer = gmaps.heatmap_layer(locations, weights=max_temp,dissipating=False,\n",
    "             max_intensity=300, point_radius=4)\n",
    "marker_layer = gmaps.marker_layer(locations, info_box_content=hotel_info)\n",
    "fig.add_layer(heat_layer)\n",
    "fig.add_layer(marker_layer)\n",
    "\n",
    "# Call the figure to plot the data.\n",
    "fig"
   ]
  },
  {
   "cell_type": "code",
   "execution_count": null,
   "id": "34975bc3",
   "metadata": {},
   "outputs": [],
   "source": []
  }
 ],
 "metadata": {
  "kernelspec": {
   "display_name": "PythonData",
   "language": "python",
   "name": "pythondata"
  },
  "language_info": {
   "codemirror_mode": {
    "name": "ipython",
    "version": 3
   },
   "file_extension": ".py",
   "mimetype": "text/x-python",
   "name": "python",
   "nbconvert_exporter": "python",
   "pygments_lexer": "ipython3",
   "version": "3.7.11"
  }
 },
 "nbformat": 4,
 "nbformat_minor": 5
}
